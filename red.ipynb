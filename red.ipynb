{
 "cells": [
  {
   "cell_type": "code",
   "execution_count": 104,
   "id": "a6db3993-5126-437e-abfa-559e816c5d09",
   "metadata": {},
   "outputs": [],
   "source": [
    "import numpy as np\n",
    "from scipy.linalg import lu_factor, lu_solve\n"
   ]
  },
  {
   "cell_type": "code",
   "execution_count": 185,
   "id": "e4dd0c45-6bea-4701-a812-a95953de5ed7",
   "metadata": {},
   "outputs": [],
   "source": [
    "def jacobi(A, b, x0, nit):    \n",
    "    \"\"\" Método de Jacobi para solução do sistema Ax=b.\n",
    "\n",
    "    x = jacobi(A, b, x0, nit)\n",
    "\n",
    "    Entradas:\n",
    "        - A: matriz n x n (tipo: lista de listas)\n",
    "        - b: vetor n x 1 (tipo: lista)\n",
    "        - x0: vetor n x 1, ponto de partida (tipo: lista)\n",
    "        - nit: número de iterações\n",
    "    \n",
    "    Saídas:\n",
    "        - x:  matriz n x nit, contendo a sequência de vetores\n",
    "        - c:  norma da matriz de iteração\n",
    "    \"\"\" \n",
    "    \n",
    "    import numpy as np    \n",
    "\n",
    "    f = lambda obj: isinstance(obj,list)     \n",
    "    if not all([f(A),f(b),f(x0)]):\n",
    "        raise TypeError('A, b e x0 devem ser do tipo list.')\n",
    "    else:\n",
    "        A = np.asarray(A)\n",
    "        b = np.asarray(b)\n",
    "        x0 = np.asarray(x0)\n",
    "            \n",
    "    n = np.size(b)\n",
    "    x = np.zeros((n, nit),dtype=float)\n",
    "    x[:,0] = x0\n",
    "        \n",
    "    P = np.diag(np.diag(A))\n",
    "    Q = P - A # elementos de fora da diagonal\n",
    "    C = np.linalg.solve(P,Q) # matriz da função de iteração\n",
    "    g = np.linalg.solve(P,b) # vetor da função de iteração\n",
    "    c = np.linalg.norm(C) \n",
    "    \n",
    "    #processo iterativo\n",
    "    X = x0[:]    \n",
    "    j = 1\n",
    "    for j in range(1,nit):        \n",
    "        X = C.dot(X) + g        \n",
    "        x[:,j] = X\n",
    "               \n",
    "    return x, c"
   ]
  },
  {
   "cell_type": "code",
   "execution_count": 175,
   "id": "d1889935-6d1e-4fb9-84d8-1d050266d795",
   "metadata": {},
   "outputs": [],
   "source": [
    "def gauss_seidel(A, b, x0, nit, tol):\n",
    "    \"\"\" Método de Gauss-Seidel de solucao do sistema Ax=b\n",
    "\n",
    "    Entradas:\n",
    "        - A: matriz n x n (tipo: lista de listas)\n",
    "        - b: vetor n x 1 (tipo: lista)\n",
    "        - x0: vetor n x 1, ponto de partida (tipo: lista)\n",
    "        - nit: número de iterações\n",
    "        - tol: tolerancia de erro relativo\n",
    "   \n",
    "    Saídas:\n",
    "        - x: matriz n x N, contendo a sequência de vetores\n",
    "        - c: norma da matriz de iteração       \n",
    "        - err: erro relativo percentual por iteracao (norma 2)\n",
    "    \"\"\"\n",
    "\n",
    "    import numpy as np\n",
    "    n = len(b)\n",
    "    x = np.zeros((n, nit))\n",
    "    x[:,0] = x0\n",
    "    xx = x0 # iterada atual\n",
    "    P = np.tril(A)\n",
    "    N = P - A\n",
    "    C = np.linalg.solve(P, N)\n",
    "    c = np.linalg.norm(C)\n",
    "    g = np.linalg.solve(P, b)\n",
    "\n",
    "    for j in range(1, nit):\n",
    "        xx = C @ xx + g\n",
    "        x[:,j] = xx\n",
    "         \n",
    "    key = True    \n",
    "        \n",
    "    for i in range(1, nit):   \n",
    "             \n",
    "        e = np.linalg.norm(x[:,i] - x[:,i-1])/np.linalg.norm(x[:,i])\n",
    "            \n",
    "        if (e < tol) and (key == True):                        \n",
    "            key = False\n",
    "\n",
    "    return x, c\n"
   ]
  },
  {
   "cell_type": "code",
   "execution_count": 197,
   "id": "22206a8c-b181-4e43-9069-89562fde33ea",
   "metadata": {},
   "outputs": [],
   "source": [
    "# FusionCells, SolarCaps, Geothermal, Battery\n",
    "B = [[70,  8, 10,  1,  5], # Shield (Escudos)\n",
    "     [ 5, 50,  6,  2,  4], # Defence (Defesa / EM & tratores)\n",
    "     [12,  3, 65,  2,  7], # Fighter (Esquadrões)\n",
    "     [ 6,  4, 10, 40,  3], # IonCannon (Canhões de Íons)\n",
    "     [15,  5,  8,  4, 55]] # Engines (Propulsão)\n",
    "\n",
    "b = [7370,\n",
    "     1670,\n",
    "     1815,\n",
    "     1220,\n",
    "     3330]"
   ]
  },
  {
   "cell_type": "code",
   "execution_count": 187,
   "id": "3e8ea0e0-73b9-4357-8519-d72a9309b1e2",
   "metadata": {},
   "outputs": [],
   "source": [
    "# Consideraremos que as matrizes triangulares inferiores sempre terão a sua diagonal principal formada por entradas iguais a 1.\n",
    "# L (triangular inferior) e U (triangular superior)\n",
    "# piv: o vetor de pivoteamento\n",
    "lu, piv = lu_factor(B) # Fatoração LU\n",
    "x_lu = lu_solve((lu, piv), b) #Ex = d\n",
    "res_lu = np.linalg.norm(B @ x_lu - b) # Calcula o resíduo do sistema: r = Ex−d"
   ]
  },
  {
   "cell_type": "code",
   "execution_count": 188,
   "id": "5016d79f-7f32-4f2c-930c-675ad2c177d9",
   "metadata": {},
   "outputs": [
    {
     "data": {
      "text/plain": [
       "array([100.,  20.,   5.,  10.,  30.])"
      ]
     },
     "execution_count": 188,
     "metadata": {},
     "output_type": "execute_result"
    }
   ],
   "source": [
    "x_lu"
   ]
  },
  {
   "cell_type": "code",
   "execution_count": 193,
   "id": "5cc1c87c-175d-49e0-a391-613c8a3a3573",
   "metadata": {},
   "outputs": [],
   "source": [
    "x0 = [1, 1, 1, 1, 1]\n",
    "x_jacobi, norma_j = jacobi(B, b, x0, 150)"
   ]
  },
  {
   "cell_type": "code",
   "execution_count": 194,
   "id": "d1045c2e-06e1-48c6-b696-61350b572fef",
   "metadata": {},
   "outputs": [],
   "source": [
    "x_gs, norma_gs = gauss_seidel(B, b, x0, 150, 1e-10)"
   ]
  },
  {
   "cell_type": "code",
   "execution_count": 195,
   "id": "7195902a-6ea0-404b-bbeb-e2a705f8ce21",
   "metadata": {},
   "outputs": [
    {
     "data": {
      "text/plain": [
       "array([100.,  20.,   5.,  10.,  30.])"
      ]
     },
     "execution_count": 195,
     "metadata": {},
     "output_type": "execute_result"
    }
   ],
   "source": [
    "x_jacobi[:, -1]"
   ]
  },
  {
   "cell_type": "code",
   "execution_count": 196,
   "id": "14721d84-bf9b-43f8-b1bb-4d5c8d21381b",
   "metadata": {},
   "outputs": [
    {
     "data": {
      "text/plain": [
       "array([100.,  20.,   5.,  10.,  30.])"
      ]
     },
     "execution_count": 196,
     "metadata": {},
     "output_type": "execute_result"
    }
   ],
   "source": [
    "x_gs[:, -1]"
   ]
  },
  {
   "cell_type": "code",
   "execution_count": null,
   "id": "f52790de-8f21-4c8c-a9ef-42084a76ddb0",
   "metadata": {},
   "outputs": [],
   "source": []
  }
 ],
 "metadata": {
  "kernelspec": {
   "display_name": "Python 3 (ipykernel)",
   "language": "python",
   "name": "python3"
  },
  "language_info": {
   "codemirror_mode": {
    "name": "ipython",
    "version": 3
   },
   "file_extension": ".py",
   "mimetype": "text/x-python",
   "name": "python",
   "nbconvert_exporter": "python",
   "pygments_lexer": "ipython3",
   "version": "3.13.5"
  }
 },
 "nbformat": 4,
 "nbformat_minor": 5
}
