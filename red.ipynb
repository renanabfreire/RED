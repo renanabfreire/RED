{
 "cells": [
  {
   "cell_type": "code",
   "execution_count": 1,
   "id": "a6db3993-5126-437e-abfa-559e816c5d09",
   "metadata": {},
   "outputs": [],
   "source": [
    "import numpy as np\n",
    "from scipy.linalg import lu_factor, lu_solve\n",
    "from scipy.optimize import nnls"
   ]
  },
  {
   "cell_type": "code",
   "execution_count": 2,
   "id": "e0d9fe73-f266-4dc8-8698-243ceba927d1",
   "metadata": {},
   "outputs": [],
   "source": [
    "# Subsystems x Sources\n",
    "subsystems = [\"Shield\", \"Defence\", \"Fighter\", \"IonCannon\", \"Engines\"]\n",
    "sources = [\"FusionCells\", \"HyperCores\", \"SolarCaps\", \"Geothermal\", \"Batteries\"] # podem substituir alguma dessas últimas pelos ratos"
   ]
  },
  {
   "cell_type": "code",
   "execution_count": 3,
   "id": "2793b787-564f-4299-8290-a29805cdcb4f",
   "metadata": {},
   "outputs": [],
   "source": [
    "#Achei que fazia mais sentido colocar quantos % de cada fonte eles vão pegar, ao invés de quantidade, mas podem mudar isso, não vai alterar o funcionamento\n",
    "E = np.array([\n",
    "    [0.4, 0.7, 0.6, 0.5, 0.0],   # Shield\n",
    "    [0.3, 0.8, 0.2, 0.4, 0.5],   # Defence\n",
    "    [0.5, 0.9, 0.3, 0.6, 0.4],   # Fighter\n",
    "    [0.6, 0.7, 0.2, 0.5, 0.3],   # IonCannon\n",
    "    [0.4, 0.6, 0.7, 0.8, 0.5],   # Engines\n",
    "], dtype=float)"
   ]
  },
  {
   "cell_type": "code",
   "execution_count": 4,
   "id": "33a4404f-7e91-4599-99e5-a5f162f904a4",
   "metadata": {},
   "outputs": [],
   "source": [
    "#Quantos de cada subsistemas existem\n",
    "d = np.array([50, 120, 200, 100, 90], dtype=float)"
   ]
  },
  {
   "cell_type": "code",
   "execution_count": 5,
   "id": "3e8ea0e0-73b9-4357-8519-d72a9309b1e2",
   "metadata": {},
   "outputs": [],
   "source": [
    "#LU\n",
    "#Caderno 8\n",
    "\n",
    "# Consideraremos que as matrizes triangulares inferiores sempre terão a sua diagonal principal formada por entradas iguais a 1.\n",
    "# L (triangular inferior) e U (triangular superior)\n",
    "# piv: o vetor de pivoteamento\n",
    "lu, piv = lu_factor(E) # Fatoração LU\n",
    "x_lu = lu_solve((lu, piv), d) #Ex = d\n",
    "res_lu = np.linalg.norm(E @ x_lu - d) # Calcula o resíduo do sistema: r = Ex−d"
   ]
  },
  {
   "cell_type": "code",
   "execution_count": 7,
   "id": "5016d79f-7f32-4f2c-930c-675ad2c177d9",
   "metadata": {},
   "outputs": [
    {
     "data": {
      "text/plain": [
       "array([-535.93004769,  230.36565978, -641.3354531 ,  975.83465819,\n",
       "       -331.16057234])"
      ]
     },
     "execution_count": 7,
     "metadata": {},
     "output_type": "execute_result"
    }
   ],
   "source": [
    "x_lu"
   ]
  },
  {
   "cell_type": "code",
   "execution_count": 8,
   "id": "3a9d871c-a8e1-489d-8416-70e16874bcc8",
   "metadata": {},
   "outputs": [
    {
     "data": {
      "text/plain": [
       "np.float64(1.0247593068766006e-13)"
      ]
     },
     "execution_count": 8,
     "metadata": {},
     "output_type": "execute_result"
    }
   ],
   "source": [
    "res_lu"
   ]
  }
 ],
 "metadata": {
  "kernelspec": {
   "display_name": "Python 3 (ipykernel)",
   "language": "python",
   "name": "python3"
  },
  "language_info": {
   "codemirror_mode": {
    "name": "ipython",
    "version": 3
   },
   "file_extension": ".py",
   "mimetype": "text/x-python",
   "name": "python",
   "nbconvert_exporter": "python",
   "pygments_lexer": "ipython3",
   "version": "3.13.5"
  }
 },
 "nbformat": 4,
 "nbformat_minor": 5
}
